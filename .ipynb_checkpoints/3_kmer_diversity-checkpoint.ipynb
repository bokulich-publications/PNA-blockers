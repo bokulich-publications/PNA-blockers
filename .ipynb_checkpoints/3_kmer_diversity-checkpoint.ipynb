{
 "cells": [
  {
   "cell_type": "markdown",
   "id": "1c9dbc77",
   "metadata": {},
   "source": [
    "# 3. Diverstiy with q2-kmerizer\n",
    "\n",
    "## Setup"
   ]
  },
  {
   "cell_type": "code",
   "execution_count": 1,
   "id": "f890af84",
   "metadata": {},
   "outputs": [
    {
     "name": "stdout",
     "output_type": "stream",
     "text": [
      "env: TMPDIR=/scratch/lfloerl/tmpdata\n"
     ]
    }
   ],
   "source": [
    "%env TMPDIR=/scratch/lfloerl/tmpdata"
   ]
  },
  {
   "cell_type": "code",
   "execution_count": 2,
   "id": "434abfc2",
   "metadata": {},
   "outputs": [
    {
     "name": "stdout",
     "output_type": "stream",
     "text": [
      "/home/lfloerl/cloud/lfloerl/RxCS_FGCZ/artifacts/16S/PNA-test\n"
     ]
    }
   ],
   "source": [
    "wd = '/home/lfloerl/cloud/lfloerl/RxCS_FGCZ/artifacts/16S/PNA-test'\n",
    "%cd $wd "
   ]
  },
  {
   "cell_type": "code",
   "execution_count": 3,
   "id": "71bcd97f",
   "metadata": {},
   "outputs": [],
   "source": [
    "from qiime2 import Visualization\n",
    "import pandas as pd\n",
    "import matplotlib.pyplot as plt\n",
    "import seaborn as sns\n",
    "\n",
    "%matplotlib inline"
   ]
  },
  {
   "cell_type": "markdown",
   "id": "15ecf051",
   "metadata": {},
   "source": [
    "### Count kmer frequencies per sample"
   ]
  },
  {
   "cell_type": "code",
   "execution_count": 4,
   "id": "3c469785",
   "metadata": {},
   "outputs": [
    {
     "name": "stdout",
     "output_type": "stream",
     "text": [
      "Saved FeatureData[Sequence] to: filtered-rep-seqs.qza\n"
     ]
    }
   ],
   "source": [
    "%%bash \n",
    "qiime feature-table filter-seqs \\\n",
    "  --i-data /home/lfloerl/cloud/lfloerl/RxCS_FGCZ/artifacts/16S/bac-dada2-2/dada-rep-seqs.qza \\\n",
    "  --i-table /home/lfloerl/cloud/lfloerl/RxCS_FGCZ/artifacts/16S/PNA-test/taxa_filtered_table.qza \\\n",
    "  --o-filtered-data filtered-rep-seqs.qza"
   ]
  },
  {
   "cell_type": "code",
   "execution_count": 5,
   "id": "bd71cb40",
   "metadata": {
    "scrolled": true
   },
   "outputs": [
    {
     "name": "stdout",
     "output_type": "stream",
     "text": [
      "Saved FeatureTable[Frequency] to: kmer_table.qza\n",
      "Saved Visualization to: kmer_table.qzv\n"
     ]
    }
   ],
   "source": [
    "%%bash\n",
    "\n",
    "qiime kmerizer seqs-to-kmers \\\n",
    "    --i-sequences filtered-rep-seqs.qza \\\n",
    "    --i-table taxa_filtered_table.qza \\\n",
    "    --o-kmer-table kmer_table.qza \\\n",
    "    --p-max-features 5000\n",
    "\n",
    "qiime feature-table summarize --i-table kmer_table.qza --o-visualization kmer_table.qzv"
   ]
  },
  {
   "cell_type": "code",
   "execution_count": 6,
   "id": "5a6fd717",
   "metadata": {
    "scrolled": true
   },
   "outputs": [
    {
     "data": {
      "text/html": [
       "<div><img onload=\"(function(div, url){\n",
       "if (typeof require !== 'undefined') {\n",
       "    var baseURL = require.toUrl('').split('/').slice(0, -2).join('/');\n",
       "} else {\n",
       "    var baseURL = JSON.parse(\n",
       "        document.getElementById('jupyter-config-data').innerHTML\n",
       "    ).baseUrl.slice(0, -1);\n",
       "}\n",
       "url = baseURL + url;\n",
       "fetch(url).then(function(res) {\n",
       "    if (res.status === 404) {\n",
       "        div.innerHTML = 'Install QIIME 2 Jupyter extension with:<br />' +\n",
       "                        '<code>jupyter server extension enable --py qiime2' +\n",
       "                        ' --sys-prefix</code><br />then restart your server.' +\n",
       "                        '<br /><br />(Interactive output not available on ' +\n",
       "                        'static notebook viewer services like nbviewer.)';\n",
       "    } else if (res.status === 409) {\n",
       "        div.innerHTML = 'Visualization no longer in scope. Re-run this cell' +\n",
       "                        ' to see the visualization.';\n",
       "    } else if (res.ok) {\n",
       "        url = res.url;\n",
       "        div.innerHTML = '<iframe src=\\'' + url + '\\' style=\\'' +\n",
       "                        'width: 100%; height: 700px; border: 0;\\'>' +\n",
       "                        '</iframe><hr />Open in a: <a href=\\'' + url + '\\'' +\n",
       "                        ' target=\\'_blank\\'>new window</a>'\n",
       "    } else {\n",
       "        div.innerHTML = 'Something has gone wrong. Check notebook server for' +\n",
       "                        ' errors.';\n",
       "    }\n",
       "});\n",
       "})(this.parentElement, '/qiime2/redirect?location=/scratch/lfloerl/tmpdata/qiime2/lfloerl/data/a9435b55-a507-4b50-8828-ce676b85b1fb')\" src=\"data:image/gif;base64,R0lGODlhAQABAIAAAP///wAAACH5BAEAAAAALAAAAAABAAEAAAICRAEAOw==\" /></div>"
      ],
      "text/plain": [
       "<visualization: Visualization uuid: a9435b55-a507-4b50-8828-ce676b85b1fb>"
      ]
     },
     "execution_count": 6,
     "metadata": {},
     "output_type": "execute_result"
    }
   ],
   "source": [
    "Visualization.load('kmer_table.qzv')"
   ]
  },
  {
   "cell_type": "markdown",
   "id": "88b1ba4c",
   "metadata": {},
   "source": [
    "### Pipeline to count kmer frequencies, calculate diversity metrics, and create an interactive scatterplot"
   ]
  },
  {
   "cell_type": "code",
   "execution_count": 9,
   "id": "6d44edab",
   "metadata": {
    "scrolled": true
   },
   "outputs": [
    {
     "name": "stdout",
     "output_type": "stream",
     "text": [
      "Saved FeatureTable[Frequency] to: kmer_core-metrics_d100_f5000_k7/rarefied_table.qza\n",
      "Saved FeatureTable[Frequency] to: kmer_core-metrics_d100_f5000_k7/kmer_table.qza\n",
      "Saved SampleData[AlphaDiversity] to: kmer_core-metrics_d100_f5000_k7/observed_features_vector.qza\n",
      "Saved SampleData[AlphaDiversity] to: kmer_core-metrics_d100_f5000_k7/shannon_vector.qza\n",
      "Saved DistanceMatrix to: kmer_core-metrics_d100_f5000_k7/jaccard_distance_matrix.qza\n",
      "Saved DistanceMatrix to: kmer_core-metrics_d100_f5000_k7/bray_curtis_distance_matrix.qza\n",
      "Saved PCoAResults to: kmer_core-metrics_d100_f5000_k7/jaccard_pcoa_results.qza\n",
      "Saved PCoAResults to: kmer_core-metrics_d100_f5000_k7/bray_curtis_pcoa_results.qza\n",
      "Saved Visualization to: kmer_core-metrics_d100_f5000_k7/scatterplot.qzv\n"
     ]
    }
   ],
   "source": [
    "%%bash \n",
    "\n",
    "qiime kmerizer core-metrics \\\n",
    "    --i-sequences filtered-rep-seqs.qza \\\n",
    "    --i-table taxa_filtered_table.qza \\\n",
    "    --p-sampling-depth 100 \\\n",
    "    --p-n-jobs 'auto' \\\n",
    "    --p-kmer-size 7 \\\n",
    "    --m-metadata-file /home/lfloerl/RxCS/Metadata/16S_PNA-test.csv \\\n",
    "    --p-max-features 5000 \\\n",
    "    --output-dir kmer_core-metrics_d100_f5000_k7/"
   ]
  },
  {
   "cell_type": "code",
   "execution_count": 13,
   "id": "e3909d5b",
   "metadata": {
    "scrolled": true
   },
   "outputs": [
    {
     "data": {
      "text/html": [
       "<div><img onload=\"(function(div, url){\n",
       "if (typeof require !== 'undefined') {\n",
       "    var baseURL = require.toUrl('').split('/').slice(0, -2).join('/');\n",
       "} else {\n",
       "    var baseURL = JSON.parse(\n",
       "        document.getElementById('jupyter-config-data').innerHTML\n",
       "    ).baseUrl.slice(0, -1);\n",
       "}\n",
       "url = baseURL + url;\n",
       "fetch(url).then(function(res) {\n",
       "    if (res.status === 404) {\n",
       "        div.innerHTML = 'Install QIIME 2 Jupyter extension with:<br />' +\n",
       "                        '<code>jupyter serverextension enable --py qiime2' +\n",
       "                        ' --sys-prefix</code><br />then restart your server.' +\n",
       "                        '<br /><br />(Interactive output not available on ' +\n",
       "                        'static notebook viewer services like nbviewer.)';\n",
       "    } else if (res.status === 409) {\n",
       "        div.innerHTML = 'Visualization no longer in scope. Re-run this cell' +\n",
       "                        ' to see the visualization.';\n",
       "    } else if (res.ok) {\n",
       "        url = res.url;\n",
       "        div.innerHTML = '<iframe src=\\'' + url + '\\' style=\\'' +\n",
       "                        'width: 100%; height: 700px; border: 0;\\'>' +\n",
       "                        '</iframe><hr />Open in a: <a href=\\'' + url + '\\'' +\n",
       "                        ' target=\\'_blank\\'>new window</a>'\n",
       "    } else {\n",
       "        div.innerHTML = 'Something has gone wrong. Check notebook server for' +\n",
       "                        ' errors.';\n",
       "    }\n",
       "});\n",
       "})(this.parentElement, '/qiime2/redirect?location=/scratch/lfloerl/tmpdata/qiime2/lfloerl/data/04a361dc-bf59-4db7-bf48-5f51df7c6866')\" src=\"data:image/gif;base64,R0lGODlhAQABAIAAAP///wAAACH5BAEAAAAALAAAAAABAAEAAAICRAEAOw==\" /></div>"
      ],
      "text/plain": [
       "<visualization: Visualization uuid: 04a361dc-bf59-4db7-bf48-5f51df7c6866>"
      ]
     },
     "execution_count": 13,
     "metadata": {},
     "output_type": "execute_result"
    }
   ],
   "source": [
    "Visualization.load('kmer_core-metrics_d100_f5000_k7/scatterplot.qzv')"
   ]
  },
  {
   "cell_type": "markdown",
   "id": "a419e787",
   "metadata": {},
   "source": [
    "### Alpha Significance"
   ]
  },
  {
   "cell_type": "code",
   "execution_count": 10,
   "id": "296af473",
   "metadata": {},
   "outputs": [
    {
     "name": "stdout",
     "output_type": "stream",
     "text": [
      "Saved Visualization to: kmer_core-metrics_d100_f5000_k7/observed_features_GroupSign.qzv\n",
      "Saved Visualization to: kmer_core-metrics_d100_f5000_k7/shannon_GroupSign.qzv\n"
     ]
    }
   ],
   "source": [
    "%%bash \n",
    "\n",
    "qiime diversity alpha-group-significance \\\n",
    "  --i-alpha-diversity kmer_core-metrics_d100_f5000_k7/observed_features_vector.qza \\\n",
    "  --m-metadata-file /home/lfloerl/RxCS/Metadata/16S_PNA-test.csv \\\n",
    "  --o-visualization kmer_core-metrics_d100_f5000_k7/observed_features_GroupSign.qzv\n",
    "\n",
    "qiime diversity alpha-group-significance \\\n",
    "  --i-alpha-diversity kmer_core-metrics_d100_f5000_k7/shannon_vector.qza \\\n",
    "  --m-metadata-file /home/lfloerl/RxCS/Metadata/16S_PNA-test.csv \\\n",
    "  --o-visualization kmer_core-metrics_d100_f5000_k7/shannon_GroupSign.qzv"
   ]
  },
  {
   "cell_type": "code",
   "execution_count": 11,
   "id": "40a944b1",
   "metadata": {},
   "outputs": [
    {
     "data": {
      "text/html": [
       "<div><img onload=\"(function(div, url){\n",
       "if (typeof require !== 'undefined') {\n",
       "    var baseURL = require.toUrl('').split('/').slice(0, -2).join('/');\n",
       "} else {\n",
       "    var baseURL = JSON.parse(\n",
       "        document.getElementById('jupyter-config-data').innerHTML\n",
       "    ).baseUrl.slice(0, -1);\n",
       "}\n",
       "url = baseURL + url;\n",
       "fetch(url).then(function(res) {\n",
       "    if (res.status === 404) {\n",
       "        div.innerHTML = 'Install QIIME 2 Jupyter extension with:<br />' +\n",
       "                        '<code>jupyter server extension enable --py qiime2' +\n",
       "                        ' --sys-prefix</code><br />then restart your server.' +\n",
       "                        '<br /><br />(Interactive output not available on ' +\n",
       "                        'static notebook viewer services like nbviewer.)';\n",
       "    } else if (res.status === 409) {\n",
       "        div.innerHTML = 'Visualization no longer in scope. Re-run this cell' +\n",
       "                        ' to see the visualization.';\n",
       "    } else if (res.ok) {\n",
       "        url = res.url;\n",
       "        div.innerHTML = '<iframe src=\\'' + url + '\\' style=\\'' +\n",
       "                        'width: 100%; height: 700px; border: 0;\\'>' +\n",
       "                        '</iframe><hr />Open in a: <a href=\\'' + url + '\\'' +\n",
       "                        ' target=\\'_blank\\'>new window</a>'\n",
       "    } else {\n",
       "        div.innerHTML = 'Something has gone wrong. Check notebook server for' +\n",
       "                        ' errors.';\n",
       "    }\n",
       "});\n",
       "})(this.parentElement, '/qiime2/redirect?location=/scratch/lfloerl/tmpdata/qiime2/lfloerl/data/2ed5f9df-3738-45da-a8d0-694219f432a7')\" src=\"data:image/gif;base64,R0lGODlhAQABAIAAAP///wAAACH5BAEAAAAALAAAAAABAAEAAAICRAEAOw==\" /></div>"
      ],
      "text/plain": [
       "<visualization: Visualization uuid: 2ed5f9df-3738-45da-a8d0-694219f432a7>"
      ]
     },
     "execution_count": 11,
     "metadata": {},
     "output_type": "execute_result"
    }
   ],
   "source": [
    "Visualization.load('kmer_core-metrics_d100_f5000_k7/observed_features_GroupSign.qzv')"
   ]
  },
  {
   "cell_type": "code",
   "execution_count": 12,
   "id": "2c038169",
   "metadata": {},
   "outputs": [
    {
     "data": {
      "text/html": [
       "<div><img onload=\"(function(div, url){\n",
       "if (typeof require !== 'undefined') {\n",
       "    var baseURL = require.toUrl('').split('/').slice(0, -2).join('/');\n",
       "} else {\n",
       "    var baseURL = JSON.parse(\n",
       "        document.getElementById('jupyter-config-data').innerHTML\n",
       "    ).baseUrl.slice(0, -1);\n",
       "}\n",
       "url = baseURL + url;\n",
       "fetch(url).then(function(res) {\n",
       "    if (res.status === 404) {\n",
       "        div.innerHTML = 'Install QIIME 2 Jupyter extension with:<br />' +\n",
       "                        '<code>jupyter server extension enable --py qiime2' +\n",
       "                        ' --sys-prefix</code><br />then restart your server.' +\n",
       "                        '<br /><br />(Interactive output not available on ' +\n",
       "                        'static notebook viewer services like nbviewer.)';\n",
       "    } else if (res.status === 409) {\n",
       "        div.innerHTML = 'Visualization no longer in scope. Re-run this cell' +\n",
       "                        ' to see the visualization.';\n",
       "    } else if (res.ok) {\n",
       "        url = res.url;\n",
       "        div.innerHTML = '<iframe src=\\'' + url + '\\' style=\\'' +\n",
       "                        'width: 100%; height: 700px; border: 0;\\'>' +\n",
       "                        '</iframe><hr />Open in a: <a href=\\'' + url + '\\'' +\n",
       "                        ' target=\\'_blank\\'>new window</a>'\n",
       "    } else {\n",
       "        div.innerHTML = 'Something has gone wrong. Check notebook server for' +\n",
       "                        ' errors.';\n",
       "    }\n",
       "});\n",
       "})(this.parentElement, '/qiime2/redirect?location=/scratch/lfloerl/tmpdata/qiime2/lfloerl/data/17848340-f77a-4093-815d-b02c49819058')\" src=\"data:image/gif;base64,R0lGODlhAQABAIAAAP///wAAACH5BAEAAAAALAAAAAABAAEAAAICRAEAOw==\" /></div>"
      ],
      "text/plain": [
       "<visualization: Visualization uuid: 17848340-f77a-4093-815d-b02c49819058>"
      ]
     },
     "execution_count": 12,
     "metadata": {},
     "output_type": "execute_result"
    }
   ],
   "source": [
    "Visualization.load('kmer_core-metrics_d100_f5000_k7/shannon_GroupSign.qzv')"
   ]
  },
  {
   "cell_type": "markdown",
   "id": "a31246f3",
   "metadata": {},
   "source": [
    "## ADONIS"
   ]
  },
  {
   "cell_type": "code",
   "execution_count": 21,
   "id": "901af1c1",
   "metadata": {},
   "outputs": [
    {
     "name": "stdout",
     "output_type": "stream",
     "text": [
      "Saved Visualization to: /home/lfloerl/cloud/lfloerl/RxCS_FGCZ/artifacts/16S/PNA-test/adonis_bray_curtis.qzv\n",
      "Saved Visualization to: /home/lfloerl/cloud/lfloerl/RxCS_FGCZ/artifacts/16S/PNA-test/adonis_jaccard.qzv\n"
     ]
    }
   ],
   "source": [
    "%%bash\n",
    "\n",
    "formula='Sample * PNAs'\n",
    "beta_metrics=('bray_curtis' 'jaccard')\n",
    "threads=4  \n",
    "output_dir='/home/lfloerl/cloud/lfloerl/RxCS_FGCZ/artifacts/16S/PNA-test/'  \n",
    "md='/home/lfloerl/RxCS/Metadata/16S_PNA-test.csv'\n",
    "\n",
    "for m in \"${beta_metrics[@]}\"; do\n",
    "    qiime diversity adonis \\\n",
    "        --i-distance-matrix kmer_core-metrics_d100_f5000_k7/${m}_distance_matrix.qza \\\n",
    "        --m-metadata-file ${md} \\\n",
    "        --p-formula \"${formula}\" \\\n",
    "        --p-n-jobs ${threads} \\\n",
    "        --o-visualization ${output_dir}adonis_${m}.qzv\n",
    "done\n"
   ]
  },
  {
   "cell_type": "code",
   "execution_count": 22,
   "id": "e0730e66",
   "metadata": {
    "scrolled": true
   },
   "outputs": [
    {
     "data": {
      "text/html": [
       "<div><img onload=\"(function(div, url){\n",
       "if (typeof require !== 'undefined') {\n",
       "    var baseURL = require.toUrl('').split('/').slice(0, -2).join('/');\n",
       "} else {\n",
       "    var baseURL = JSON.parse(\n",
       "        document.getElementById('jupyter-config-data').innerHTML\n",
       "    ).baseUrl.slice(0, -1);\n",
       "}\n",
       "url = baseURL + url;\n",
       "fetch(url).then(function(res) {\n",
       "    if (res.status === 404) {\n",
       "        div.innerHTML = 'Install QIIME 2 Jupyter extension with:<br />' +\n",
       "                        '<code>jupyter server extension enable --py qiime2' +\n",
       "                        ' --sys-prefix</code><br />then restart your server.' +\n",
       "                        '<br /><br />(Interactive output not available on ' +\n",
       "                        'static notebook viewer services like nbviewer.)';\n",
       "    } else if (res.status === 409) {\n",
       "        div.innerHTML = 'Visualization no longer in scope. Re-run this cell' +\n",
       "                        ' to see the visualization.';\n",
       "    } else if (res.ok) {\n",
       "        url = res.url;\n",
       "        div.innerHTML = '<iframe src=\\'' + url + '\\' style=\\'' +\n",
       "                        'width: 100%; height: 700px; border: 0;\\'>' +\n",
       "                        '</iframe><hr />Open in a: <a href=\\'' + url + '\\'' +\n",
       "                        ' target=\\'_blank\\'>new window</a>'\n",
       "    } else {\n",
       "        div.innerHTML = 'Something has gone wrong. Check notebook server for' +\n",
       "                        ' errors.';\n",
       "    }\n",
       "});\n",
       "})(this.parentElement, '/qiime2/redirect?location=/scratch/lfloerl/tmpdata/qiime2/lfloerl/data/20fe0c04-bef5-47a8-bace-5903eb32f90d')\" src=\"data:image/gif;base64,R0lGODlhAQABAIAAAP///wAAACH5BAEAAAAALAAAAAABAAEAAAICRAEAOw==\" /></div>"
      ],
      "text/plain": [
       "<visualization: Visualization uuid: 20fe0c04-bef5-47a8-bace-5903eb32f90d>"
      ]
     },
     "execution_count": 22,
     "metadata": {},
     "output_type": "execute_result"
    }
   ],
   "source": [
    "Visualization.load('adonis_jaccard.qzv')"
   ]
  },
  {
   "cell_type": "code",
   "execution_count": 23,
   "id": "54c137a4",
   "metadata": {
    "scrolled": true
   },
   "outputs": [
    {
     "data": {
      "text/html": [
       "<div><img onload=\"(function(div, url){\n",
       "if (typeof require !== 'undefined') {\n",
       "    var baseURL = require.toUrl('').split('/').slice(0, -2).join('/');\n",
       "} else {\n",
       "    var baseURL = JSON.parse(\n",
       "        document.getElementById('jupyter-config-data').innerHTML\n",
       "    ).baseUrl.slice(0, -1);\n",
       "}\n",
       "url = baseURL + url;\n",
       "fetch(url).then(function(res) {\n",
       "    if (res.status === 404) {\n",
       "        div.innerHTML = 'Install QIIME 2 Jupyter extension with:<br />' +\n",
       "                        '<code>jupyter server extension enable --py qiime2' +\n",
       "                        ' --sys-prefix</code><br />then restart your server.' +\n",
       "                        '<br /><br />(Interactive output not available on ' +\n",
       "                        'static notebook viewer services like nbviewer.)';\n",
       "    } else if (res.status === 409) {\n",
       "        div.innerHTML = 'Visualization no longer in scope. Re-run this cell' +\n",
       "                        ' to see the visualization.';\n",
       "    } else if (res.ok) {\n",
       "        url = res.url;\n",
       "        div.innerHTML = '<iframe src=\\'' + url + '\\' style=\\'' +\n",
       "                        'width: 100%; height: 700px; border: 0;\\'>' +\n",
       "                        '</iframe><hr />Open in a: <a href=\\'' + url + '\\'' +\n",
       "                        ' target=\\'_blank\\'>new window</a>'\n",
       "    } else {\n",
       "        div.innerHTML = 'Something has gone wrong. Check notebook server for' +\n",
       "                        ' errors.';\n",
       "    }\n",
       "});\n",
       "})(this.parentElement, '/qiime2/redirect?location=/scratch/lfloerl/tmpdata/qiime2/lfloerl/data/8687db93-497d-44d3-be8c-ba8c4347f484')\" src=\"data:image/gif;base64,R0lGODlhAQABAIAAAP///wAAACH5BAEAAAAALAAAAAABAAEAAAICRAEAOw==\" /></div>"
      ],
      "text/plain": [
       "<visualization: Visualization uuid: 8687db93-497d-44d3-be8c-ba8c4347f484>"
      ]
     },
     "execution_count": 23,
     "metadata": {},
     "output_type": "execute_result"
    }
   ],
   "source": [
    "Visualization.load('adonis_bray_curtis.qzv')"
   ]
  },
  {
   "cell_type": "markdown",
   "id": "878673fa",
   "metadata": {},
   "source": [
    "## Make Jaccard distance matrix to plot"
   ]
  },
  {
   "cell_type": "code",
   "execution_count": 16,
   "id": "5b0441e4",
   "metadata": {},
   "outputs": [
    {
     "name": "stdout",
     "output_type": "stream",
     "text": [
      "\u001b[32mExported kmer_core-metrics_d100_f5000_k7/jaccard_pcoa_results.qza as OrdinationDirectoryFormat to directory kmer_core-metrics_d100_f5000_k7/jaccard_pcoa\u001b[0m\r\n",
      "\u001b[0m"
     ]
    }
   ],
   "source": [
    "!qiime tools export --input-path kmer_core-metrics_d100_f5000_k7/jaccard_pcoa_results.qza --output-path kmer_core-metrics_d100_f5000_k7/jaccard_pcoa"
   ]
  },
  {
   "cell_type": "code",
   "execution_count": 17,
   "id": "6bc40d12",
   "metadata": {},
   "outputs": [
    {
     "data": {
      "text/html": [
       "<div>\n",
       "<style scoped>\n",
       "    .dataframe tbody tr th:only-of-type {\n",
       "        vertical-align: middle;\n",
       "    }\n",
       "\n",
       "    .dataframe tbody tr th {\n",
       "        vertical-align: top;\n",
       "    }\n",
       "\n",
       "    .dataframe thead th {\n",
       "        text-align: right;\n",
       "    }\n",
       "</style>\n",
       "<table border=\"1\" class=\"dataframe\">\n",
       "  <thead>\n",
       "    <tr style=\"text-align: right;\">\n",
       "      <th></th>\n",
       "      <th>PC1</th>\n",
       "      <th>PC2</th>\n",
       "      <th>Sample_ID</th>\n",
       "      <th>PNAs</th>\n",
       "      <th>Sample</th>\n",
       "    </tr>\n",
       "    <tr>\n",
       "      <th>ID</th>\n",
       "      <th></th>\n",
       "      <th></th>\n",
       "      <th></th>\n",
       "      <th></th>\n",
       "      <th></th>\n",
       "    </tr>\n",
       "  </thead>\n",
       "  <tbody>\n",
       "    <tr>\n",
       "      <th>366344_0001-LP1-16S-1152</th>\n",
       "      <td>-0.110672</td>\n",
       "      <td>0.143420</td>\n",
       "      <td>Must-20-AUG-2022-gt120-Block1_m+pPNA_1.25</td>\n",
       "      <td>yes</td>\n",
       "      <td>Sample-1</td>\n",
       "    </tr>\n",
       "    <tr>\n",
       "      <th>366344_0002-LP1-16S-1151</th>\n",
       "      <td>-0.000489</td>\n",
       "      <td>-0.081858</td>\n",
       "      <td>Must-20-AUG-2022-gt5-Block2_m+pPNA_1.25</td>\n",
       "      <td>yes</td>\n",
       "      <td>Sample-2</td>\n",
       "    </tr>\n",
       "    <tr>\n",
       "      <th>366344_0003-LP1-16S-1150</th>\n",
       "      <td>-0.072843</td>\n",
       "      <td>0.252225</td>\n",
       "      <td>Must-20-AUG-2022-gt64-Block2_m+pPNA_1.25</td>\n",
       "      <td>yes</td>\n",
       "      <td>Sample-3</td>\n",
       "    </tr>\n",
       "    <tr>\n",
       "      <th>366344_0004-LP1-16S-1149</th>\n",
       "      <td>-0.119339</td>\n",
       "      <td>-0.130514</td>\n",
       "      <td>Must-27-AUG-2022-gt147-Block2_m+pPNA_1.25</td>\n",
       "      <td>yes</td>\n",
       "      <td>Sample-4</td>\n",
       "    </tr>\n",
       "    <tr>\n",
       "      <th>366344_0005-LP1-16S-1148</th>\n",
       "      <td>0.368596</td>\n",
       "      <td>-0.027853</td>\n",
       "      <td>Must-27-AUG-2022-gt110-Block1_m+pPNA_1.25</td>\n",
       "      <td>yes</td>\n",
       "      <td>Sample-5</td>\n",
       "    </tr>\n",
       "  </tbody>\n",
       "</table>\n",
       "</div>"
      ],
      "text/plain": [
       "                               PC1       PC2  \\\n",
       "ID                                             \n",
       "366344_0001-LP1-16S-1152 -0.110672  0.143420   \n",
       "366344_0002-LP1-16S-1151 -0.000489 -0.081858   \n",
       "366344_0003-LP1-16S-1150 -0.072843  0.252225   \n",
       "366344_0004-LP1-16S-1149 -0.119339 -0.130514   \n",
       "366344_0005-LP1-16S-1148  0.368596 -0.027853   \n",
       "\n",
       "                                                          Sample_ID PNAs  \\\n",
       "ID                                                                         \n",
       "366344_0001-LP1-16S-1152  Must-20-AUG-2022-gt120-Block1_m+pPNA_1.25  yes   \n",
       "366344_0002-LP1-16S-1151    Must-20-AUG-2022-gt5-Block2_m+pPNA_1.25  yes   \n",
       "366344_0003-LP1-16S-1150   Must-20-AUG-2022-gt64-Block2_m+pPNA_1.25  yes   \n",
       "366344_0004-LP1-16S-1149  Must-27-AUG-2022-gt147-Block2_m+pPNA_1.25  yes   \n",
       "366344_0005-LP1-16S-1148  Must-27-AUG-2022-gt110-Block1_m+pPNA_1.25  yes   \n",
       "\n",
       "                            Sample  \n",
       "ID                                  \n",
       "366344_0001-LP1-16S-1152  Sample-1  \n",
       "366344_0002-LP1-16S-1151  Sample-2  \n",
       "366344_0003-LP1-16S-1150  Sample-3  \n",
       "366344_0004-LP1-16S-1149  Sample-4  \n",
       "366344_0005-LP1-16S-1148  Sample-5  "
      ]
     },
     "execution_count": 17,
     "metadata": {},
     "output_type": "execute_result"
    }
   ],
   "source": [
    "jaccard_pcoa = pd.read_csv('kmer_core-metrics_d100_f5000_k7/jaccard_pcoa/ordination.txt', sep='\\t', skiprows=9, header=None)\n",
    "\n",
    "# function to get components \n",
    "def select_components(df):\n",
    "    # Drop the last 2 rows\n",
    "    df = df.iloc[:-2]\n",
    "    # Select specific columns\n",
    "    df = df.iloc[:, [0, 1, 3]]\n",
    "    # Rename columns and set index\n",
    "    df = df.rename(columns={0: 'ID', 1: 'PC1', 3: 'PC2'}).set_index('ID')\n",
    "    return df\n",
    "\n",
    "jaccard_pcoa_df = select_components(jaccard_pcoa)\n",
    "\n",
    "# rename the index by the sample type \n",
    "md = pd.read_csv('/home/lfloerl/RxCS/Metadata/16S_PNA-test.csv', sep='\\t', index_col=0)\n",
    "\n",
    "# rename the index by the sample type \n",
    "jaccard_pcoa_df_merged = jaccard_pcoa_df.merge(md[['Sample_ID', 'PNAs', 'Sample']], left_on='ID', right_on='ID', how='left')\n",
    "\n",
    "sample_mapping = {original: f\"Sample-{i+1}\" for i, original in enumerate(jaccard_pcoa_df_merged['Sample'].unique())}\n",
    "jaccard_pcoa_df_merged['Sample'] = jaccard_pcoa_df_merged['Sample'].replace(sample_mapping)\n",
    "\n",
    "jaccard_pcoa_df_merged.tail()"
   ]
  },
  {
   "cell_type": "code",
   "execution_count": 19,
   "id": "c6b93f65",
   "metadata": {},
   "outputs": [],
   "source": [
    "manual_colors = {\n",
    "    \"Sample-1\": \"#440154FF\",\n",
    "    \"Sample-2\": \"#443A83FF\",\n",
    "    \"Sample-3\": \"#31688EFF\",\n",
    "    \"Sample-4\": \"#21908CFF\",\n",
    "    \"Sample-5\": \"#35B779FF\",\n",
    "    \"Sample-6\": \"#8FD744FF\",\n",
    "    \"Sample-7\": \"#FDE725FF\"\n",
    "}"
   ]
  },
  {
   "cell_type": "code",
   "execution_count": 20,
   "id": "7fbe5910",
   "metadata": {},
   "outputs": [
    {
     "data": {
      "image/png": "[encoded data removed]",
      "text/plain": [
       "<Figure size 300x300 with 1 Axes>"
      ]
     },
     "metadata": {},
     "output_type": "display_data"
    }
   ],
   "source": [
    "# Map the colors to the DataFrame\n",
    "jaccard_pcoa_df_merged['color'] = jaccard_pcoa_df_merged['Sample'].map(manual_colors)\n",
    "\n",
    "# Define marker styles based on PNAs\n",
    "marker_styles = {'yes': 'o', 'no': '*'}\n",
    "\n",
    "# Create figure\n",
    "plt.figure(figsize=(3, 3))\n",
    "plt.tight_layout()\n",
    "\n",
    "# Plot the remaining markers\n",
    "other_data = jaccard_pcoa_df_merged[jaccard_pcoa_df_merged['PNAs'] != 'no']\n",
    "sns.scatterplot(\n",
    "    x='PC1', y='PC2',\n",
    "    data=other_data,\n",
    "    hue='Sample',\n",
    "    palette=manual_colors,\n",
    "    style='PNAs',\n",
    "    markers=marker_styles['yes'],\n",
    "    s=60,\n",
    "    edgecolor='none',\n",
    "    legend=None\n",
    ")\n",
    "\n",
    "# Plot markers with star style separately\n",
    "\n",
    "star_data = jaccard_pcoa_df_merged[jaccard_pcoa_df_merged['PNAs'] == 'no']\n",
    "sns.scatterplot(\n",
    "    x='PC1', y='PC2',\n",
    "    data=star_data,\n",
    "    hue='Sample',\n",
    "    palette=manual_colors,\n",
    "    style='PNAs',\n",
    "    markers=marker_styles['no'],\n",
    "    s=200,  # Larger size for star markers\n",
    "    edgecolor='black',  # Edge color for star markers\n",
    "    legend=None\n",
    ")\n",
    "\n",
    "# Create custom legend\n",
    "handles = [\n",
    "    plt.Line2D([], [], marker=marker_styles['yes'], color='w', markerfacecolor='grey', markersize=10, label='with PNAs'),\n",
    "    plt.Line2D([], [], marker=marker_styles['no'], color='w', markerfacecolor='grey', markersize=15, markeredgecolor='black', label='without PNAs'),\n",
    "    plt.Line2D([], [], color='none', label='   '),  # Spacer\n",
    "]\n",
    "handles += [plt.Line2D([], [], marker='o', color='w', markerfacecolor=color, markersize=10, label=index)\n",
    "            for index, color in manual_colors.items()]\n",
    "\n",
    "plt.legend(\n",
    "    handles=handles,\n",
    "    bbox_to_anchor=(1.05, 1),\n",
    "    loc='upper left',\n",
    "    handlelength=2,  # Length of the legend handle\n",
    "    handletextpad=1.1,  # Space between the handle and the label\n",
    "    columnspacing=2  # Space between columns (if multiple columns are used)\n",
    ")\n",
    "\n",
    "# Add labels and title\n",
    "plt.xlabel('PC1')\n",
    "plt.ylabel('PC2')\n",
    "\n",
    "plt.savefig('Jaccard_kmer_PCoA.png', dpi=300, bbox_inches='tight')\n",
    "plt.show()"
   ]
  },
  {
   "cell_type": "code",
   "execution_count": null,
   "id": "9b9a0c14",
   "metadata": {},
   "outputs": [],
   "source": []
  }
 ],
 "metadata": {
  "kernelspec": {
   "display_name": "Python 3 (ipykernel)",
   "language": "python",
   "name": "python3"
  },
  "language_info": {
   "codemirror_mode": {
    "name": "ipython",
    "version": 3
   },
   "file_extension": ".py",
   "mimetype": "text/x-python",
   "name": "python",
   "nbconvert_exporter": "python",
   "pygments_lexer": "ipython3",
   "version": "3.10.14"
  }
 },
 "nbformat": 4,
 "nbformat_minor": 5
}
